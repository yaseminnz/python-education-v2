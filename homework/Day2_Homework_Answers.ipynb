{
  "nbformat": 4,
  "nbformat_minor": 0,
  "metadata": {
    "colab": {
      "name": "Day2 Homework Answers",
      "provenance": []
    },
    "kernelspec": {
      "name": "python3",
      "display_name": "Python 3"
    }
  },
  "cells": [
    {
      "cell_type": "code",
      "metadata": {
        "colab": {
          "base_uri": "https://localhost:8080/"
        },
        "id": "EqanFqjp3EvS",
        "outputId": "6767cf3c-2b14-4859-87d5-57c9f71346f1"
      },
      "source": [
        "list1 = [\"how\", \"was\", \"your\", \"day?\"]\n",
        "list1.reverse()\n",
        "print(list1)"
      ],
      "execution_count": null,
      "outputs": [
        {
          "output_type": "stream",
          "text": [
            "['day?', 'your', 'was', 'how']\n"
          ],
          "name": "stdout"
        }
      ]
    },
    {
      "cell_type": "code",
      "metadata": {
        "colab": {
          "base_uri": "https://localhost:8080/"
        },
        "id": "luo10CYF3M-h",
        "outputId": "3f679b0f-e1cd-4127-b93a-069fd01c0e91"
      },
      "source": [
        "maximum  = int(input(\" Please Enter the Maximum Value : \")) \n",
        "\n",
        "number=0 \n",
        "\n",
        "while -1<number <= maximum<10: \n",
        "    if(number % 2 == 0):\n",
        "        print((\"{0}\".format(number)))\n",
        "    number = number + 1"
      ],
      "execution_count": null,
      "outputs": [
        {
          "output_type": "stream",
          "text": [
            " Please Enter the Maximum Value : 9\n",
            "0\n",
            "2\n",
            "4\n",
            "6\n",
            "8\n"
          ],
          "name": "stdout"
        }
      ]
    },
    {
      "cell_type": "code",
      "metadata": {
        "id": "AisTqyaH4foH"
      },
      "source": [
        ""
      ],
      "execution_count": null,
      "outputs": []
    }
  ]
}